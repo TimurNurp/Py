{
  "nbformat": 4,
  "nbformat_minor": 0,
  "metadata": {
    "colab": {
      "provenance": []
    },
    "kernelspec": {
      "name": "python3",
      "display_name": "Python 3"
    },
    "language_info": {
      "name": "python"
    },
    "gpuClass": "standard"
  },
  "cells": [
    {
      "cell_type": "code",
      "execution_count": 2,
      "metadata": {
        "id": "tgHfL9O6pB2t"
      },
      "outputs": [],
      "source": [
        "import numpy as np\n",
        "a=np.random.random((4,4))"
      ]
    },
    {
      "cell_type": "code",
      "source": [
        "%timeit np.random.random((4,4))"
      ],
      "metadata": {
        "colab": {
          "base_uri": "https://localhost:8080/"
        },
        "id": "IRzeNEQipXBp",
        "outputId": "104bd61d-a7e1-44c3-b032-ee85b767775f"
      },
      "execution_count": 2,
      "outputs": [
        {
          "output_type": "stream",
          "name": "stdout",
          "text": [
            "1.23 µs ± 316 ns per loop (mean ± std. dev. of 7 runs, 1000000 loops each)\n"
          ]
        }
      ]
    },
    {
      "cell_type": "code",
      "source": [
        "%timeit np.random.random((1000,1000))"
      ],
      "metadata": {
        "colab": {
          "base_uri": "https://localhost:8080/"
        },
        "id": "FaigJAMmpoE1",
        "outputId": "73863767-218e-4f07-fd2a-a9e9a3ae7c1b"
      },
      "execution_count": 3,
      "outputs": [
        {
          "output_type": "stream",
          "name": "stdout",
          "text": [
            "10.4 ms ± 3.01 ms per loop (mean ± std. dev. of 7 runs, 100 loops each)\n"
          ]
        }
      ]
    },
    {
      "cell_type": "code",
      "source": [
        "!ls"
      ],
      "metadata": {
        "colab": {
          "base_uri": "https://localhost:8080/"
        },
        "id": "Gw8zIKaSp2th",
        "outputId": "2019586e-81f4-45a3-dcf2-930df5aeeaaf"
      },
      "execution_count": 4,
      "outputs": [
        {
          "output_type": "stream",
          "name": "stdout",
          "text": [
            "sample_data\n"
          ]
        }
      ]
    },
    {
      "cell_type": "code",
      "source": [
        "!mkdir myTemp"
      ],
      "metadata": {
        "id": "qE-jlpH-p8_D"
      },
      "execution_count": 5,
      "outputs": []
    },
    {
      "cell_type": "code",
      "source": [
        "!ls"
      ],
      "metadata": {
        "colab": {
          "base_uri": "https://localhost:8080/"
        },
        "id": "F6ne0wC4qDvp",
        "outputId": "50cbae16-0b6c-4951-803b-01b620f939e3"
      },
      "execution_count": 6,
      "outputs": [
        {
          "output_type": "stream",
          "name": "stdout",
          "text": [
            "myTemp\tsample_data\n"
          ]
        }
      ]
    },
    {
      "cell_type": "code",
      "source": [
        "count = 0\n",
        "while count < 10:\n",
        "  b= a + 2.0\n",
        "  b\n",
        "  count +=1\n",
        "%debug\n"
      ],
      "metadata": {
        "id": "mbP-l0_FrCrC"
      },
      "execution_count": null,
      "outputs": []
    },
    {
      "cell_type": "code",
      "source": [
        "import torch as t\n",
        "x =t.torch.randn((4,4))\n",
        "z = t.torch.randn((4,4))\n",
        "\n",
        "print(x)\n",
        "print(z)\n",
        "\n",
        "%timeit x*z"
      ],
      "metadata": {
        "colab": {
          "base_uri": "https://localhost:8080/"
        },
        "id": "BsIc_DZCyX1l",
        "outputId": "5326c687-d2e7-4059-87d8-61156eca38be"
      },
      "execution_count": 7,
      "outputs": [
        {
          "output_type": "stream",
          "name": "stdout",
          "text": [
            "tensor([[-0.4534, -0.8302,  0.4373,  0.1690],\n",
            "        [ 1.3660, -0.7857, -0.7149,  0.6918],\n",
            "        [ 0.1733,  0.8996, -0.6652,  0.5290],\n",
            "        [ 0.2709,  1.3533,  0.5514,  0.2501]])\n",
            "tensor([[-0.0880,  0.3093, -0.4591, -0.7600],\n",
            "        [ 1.0158, -1.0956, -0.8936, -1.4047],\n",
            "        [ 1.0188,  1.1227,  0.6411,  0.7097],\n",
            "        [ 0.6504, -0.1641, -0.2564, -0.6442]])\n",
            "2 µs ± 199 ns per loop (mean ± std. dev. of 7 runs, 1000000 loops each)\n"
          ]
        }
      ]
    },
    {
      "cell_type": "code",
      "source": [
        "x = t.torch.randn((4,4)).cuda()\n",
        "z = t.torch.randn((4,4)).cuda()\n",
        "%timeit x*z"
      ],
      "metadata": {
        "colab": {
          "base_uri": "https://localhost:8080/"
        },
        "id": "exlan8vQ2OLf",
        "outputId": "b1e7a7e3-2e31-4a5a-812b-20c2b5339af9"
      },
      "execution_count": 10,
      "outputs": [
        {
          "output_type": "stream",
          "name": "stdout",
          "text": [
            "6.85 µs ± 411 ns per loop (mean ± std. dev. of 7 runs, 100000 loops each)\n"
          ]
        }
      ]
    },
    {
      "cell_type": "code",
      "source": [
        " !nvidia-smi\n"
      ],
      "metadata": {
        "colab": {
          "base_uri": "https://localhost:8080/"
        },
        "id": "9TN2CEVv3uKD",
        "outputId": "57634b48-dea9-409d-aa87-11882a9468fb"
      },
      "execution_count": 11,
      "outputs": [
        {
          "output_type": "stream",
          "name": "stdout",
          "text": [
            "Sun Mar 19 08:38:07 2023       \n",
            "+-----------------------------------------------------------------------------+\n",
            "| NVIDIA-SMI 525.85.12    Driver Version: 525.85.12    CUDA Version: 12.0     |\n",
            "|-------------------------------+----------------------+----------------------+\n",
            "| GPU  Name        Persistence-M| Bus-Id        Disp.A | Volatile Uncorr. ECC |\n",
            "| Fan  Temp  Perf  Pwr:Usage/Cap|         Memory-Usage | GPU-Util  Compute M. |\n",
            "|                               |                      |               MIG M. |\n",
            "|===============================+======================+======================|\n",
            "|   0  Tesla T4            Off  | 00000000:00:04.0 Off |                    0 |\n",
            "| N/A   47C    P0    28W /  70W |    571MiB / 15360MiB |      0%      Default |\n",
            "|                               |                      |                  N/A |\n",
            "+-------------------------------+----------------------+----------------------+\n",
            "                                                                               \n",
            "+-----------------------------------------------------------------------------+\n",
            "| Processes:                                                                  |\n",
            "|  GPU   GI   CI        PID   Type   Process name                  GPU Memory |\n",
            "|        ID   ID                                                   Usage      |\n",
            "|=============================================================================|\n",
            "+-----------------------------------------------------------------------------+\n"
          ]
        }
      ]
    },
    {
      "cell_type": "markdown",
      "source": [
        "Классы"
      ],
      "metadata": {
        "id": "QIS5qrMIC6xB"
      }
    },
    {
      "cell_type": "code",
      "source": [
        "class SomeClass(object):\n",
        "  arttr1 =42\n",
        "\n",
        "  def method(self,x):\n",
        "    return 2*x\n",
        "\n"
      ],
      "metadata": {
        "id": "FXq5uX3iB2W_"
      },
      "execution_count": 36,
      "outputs": []
    },
    {
      "cell_type": "code",
      "source": [
        " obj = SomeClass()\n",
        " print(obj.method(6))\n",
        " \n",
        " obj.arttr1\n"
      ],
      "metadata": {
        "colab": {
          "base_uri": "https://localhost:8080/"
        },
        "id": "nwOVPxYpCtGV",
        "outputId": "27a75e4a-e042-4ad4-ae7e-04febdcc849c"
      },
      "execution_count": 38,
      "outputs": [
        {
          "output_type": "stream",
          "name": "stdout",
          "text": [
            "12\n"
          ]
        },
        {
          "output_type": "execute_result",
          "data": {
            "text/plain": [
              "42"
            ]
          },
          "metadata": {},
          "execution_count": 38
        }
      ]
    },
    {
      "cell_type": "code",
      "source": [
        "def func(x):\n",
        "  return 2*x[0], 3*x[1], 4*x[2]\n",
        "\n",
        "\n",
        "      "
      ],
      "metadata": {
        "id": "ub4cPAqFDGYv"
      },
      "execution_count": 41,
      "outputs": []
    },
    {
      "cell_type": "code",
      "source": [
        " class Point:\n",
        "   def __init__(self, x, y, z):\n",
        "     self.coord = (x,  y, z)\n",
        "     self.coord2 = func(self.coord)\n",
        "     print('init ok')"
      ],
      "metadata": {
        "id": "LT26lGyxD8rX"
      },
      "execution_count": 42,
      "outputs": []
    },
    {
      "cell_type": "code",
      "source": [
        "\n",
        "p1 =Point (13, 14, 15)\n",
        "p1.coord\n",
        "\n",
        "p2 = Point(10, 1, 17)\n",
        "p2.coord\n",
        "p2.coord2\n",
        "\n"
      ],
      "metadata": {
        "id": "mdicIhCZD-Yd"
      },
      "execution_count": null,
      "outputs": []
    },
    {
      "cell_type": "code",
      "source": [
        "class ToyClass:\n",
        "    def instancemethod(self):\n",
        "        return 'instance method called', self\n",
        "    \n",
        "    @classmethod\n",
        "    def classmethod(cls):\n",
        "        return 'class method called', cls\n",
        "    @staticmethod\n",
        "    def staticmethod():\n",
        "        return 'static method called'"
      ],
      "metadata": {
        "id": "vqKOL-_zIY3D"
      },
      "execution_count": 48,
      "outputs": []
    },
    {
      "cell_type": "code",
      "source": [
        "t = ToyClass()\n",
        "t.instancemethod()"
      ],
      "metadata": {
        "colab": {
          "base_uri": "https://localhost:8080/"
        },
        "id": "aHg1kHr7I3df",
        "outputId": "3b7d10a3-0ae2-4b6b-9648-9c252c62a086"
      },
      "execution_count": 49,
      "outputs": [
        {
          "output_type": "execute_result",
          "data": {
            "text/plain": [
              "('instance method called', <__main__.ToyClass at 0x7f92591bc910>)"
            ]
          },
          "metadata": {},
          "execution_count": 49
        }
      ]
    },
    {
      "cell_type": "code",
      "source": [
        "ToyClass.instancemethod(t)"
      ],
      "metadata": {
        "colab": {
          "base_uri": "https://localhost:8080/"
        },
        "id": "Yd4wTLjSJHJ6",
        "outputId": "c50a8a9c-b280-418e-cd5d-a3d82020d042"
      },
      "execution_count": 50,
      "outputs": [
        {
          "output_type": "execute_result",
          "data": {
            "text/plain": [
              "('instance method called', <__main__.ToyClass at 0x7f92591bc910>)"
            ]
          },
          "metadata": {},
          "execution_count": 50
        }
      ]
    },
    {
      "cell_type": "code",
      "source": [
        "t.classmethod()"
      ],
      "metadata": {
        "colab": {
          "base_uri": "https://localhost:8080/"
        },
        "id": "-15vmRRmJRUT",
        "outputId": "b3b7c62f-e2e6-4505-fcc3-51f3dbfc8d59"
      },
      "execution_count": 51,
      "outputs": [
        {
          "output_type": "execute_result",
          "data": {
            "text/plain": [
              "('class method called', __main__.ToyClass)"
            ]
          },
          "metadata": {},
          "execution_count": 51
        }
      ]
    },
    {
      "cell_type": "code",
      "source": [
        "ToyClass.classmethod()"
      ],
      "metadata": {
        "colab": {
          "base_uri": "https://localhost:8080/"
        },
        "id": "3Jk1CsQdJciy",
        "outputId": "8a4c01c7-0b48-4409-de77-94b313916284"
      },
      "execution_count": 52,
      "outputs": [
        {
          "output_type": "execute_result",
          "data": {
            "text/plain": [
              "('class method called', __main__.ToyClass)"
            ]
          },
          "metadata": {},
          "execution_count": 52
        }
      ]
    },
    {
      "cell_type": "code",
      "source": [
        "t.staticmethod()"
      ],
      "metadata": {
        "colab": {
          "base_uri": "https://localhost:8080/",
          "height": 35
        },
        "id": "PIV3m5x5JikJ",
        "outputId": "77d9272a-5ac1-4935-adca-d6a3383e8228"
      },
      "execution_count": 53,
      "outputs": [
        {
          "output_type": "execute_result",
          "data": {
            "text/plain": [
              "'static method called'"
            ],
            "application/vnd.google.colaboratory.intrinsic+json": {
              "type": "string"
            }
          },
          "metadata": {},
          "execution_count": 53
        }
      ]
    },
    {
      "cell_type": "code",
      "source": [
        "ToyClass.staticmethod()"
      ],
      "metadata": {
        "colab": {
          "base_uri": "https://localhost:8080/",
          "height": 35
        },
        "id": "dOIHnXxlJnuz",
        "outputId": "329d6c7a-3645-4d25-e60c-5cabc3f43a26"
      },
      "execution_count": 54,
      "outputs": [
        {
          "output_type": "execute_result",
          "data": {
            "text/plain": [
              "'static method called'"
            ],
            "application/vnd.google.colaboratory.intrinsic+json": {
              "type": "string"
            }
          },
          "metadata": {},
          "execution_count": 54
        }
      ]
    },
    {
      "cell_type": "code",
      "source": [
        "from datetime import date\n",
        "class Person:\n",
        "    def __init__(self, name, age):\n",
        "        self.name = name\n",
        "        self.age = age\n",
        "    @classmethod\n",
        "    def from_birth_year(cls, name, year):\n",
        "        return cls(name, date.today().year - year)\n",
        "    @staticmethod\n",
        "    def is_adult(age):\n",
        "        return age > 18\n"
      ],
      "metadata": {
        "id": "ZyL-OFAsJz2f"
      },
      "execution_count": 57,
      "outputs": []
    },
    {
      "cell_type": "code",
      "source": [
        "person1 = Person('Sarah', 25)\n",
        "person2 = Person.from_birth_year('Roark', 2020)\n"
      ],
      "metadata": {
        "id": "UKcSVm88J6p1"
      },
      "execution_count": 65,
      "outputs": []
    },
    {
      "cell_type": "code",
      "source": [
        "person1.name, person1.age"
      ],
      "metadata": {
        "colab": {
          "base_uri": "https://localhost:8080/"
        },
        "id": "60GchZRVKZql",
        "outputId": "b64d46d3-37f3-4ae6-8ab5-9479b6b9de90"
      },
      "execution_count": 63,
      "outputs": [
        {
          "output_type": "execute_result",
          "data": {
            "text/plain": [
              "('Sarah', 25)"
            ]
          },
          "metadata": {},
          "execution_count": 63
        }
      ]
    },
    {
      "cell_type": "code",
      "source": [
        "person2.name, person2.age"
      ],
      "metadata": {
        "colab": {
          "base_uri": "https://localhost:8080/"
        },
        "id": "YMfSUEKxKa9-",
        "outputId": "f887bdbe-d6f9-4415-b1b0-6651bc7fd87d"
      },
      "execution_count": 66,
      "outputs": [
        {
          "output_type": "execute_result",
          "data": {
            "text/plain": [
              "('Roark', 3)"
            ]
          },
          "metadata": {},
          "execution_count": 66
        }
      ]
    },
    {
      "cell_type": "code",
      "source": [
        "Person.is_adult(person2.age)"
      ],
      "metadata": {
        "colab": {
          "base_uri": "https://localhost:8080/"
        },
        "id": "RBEPMZ6rKcPU",
        "outputId": "2893ca86-8190-40ce-c8e3-fbcf6a999534"
      },
      "execution_count": 68,
      "outputs": [
        {
          "output_type": "execute_result",
          "data": {
            "text/plain": [
              "False"
            ]
          },
          "metadata": {},
          "execution_count": 68
        }
      ]
    }
  ]
}